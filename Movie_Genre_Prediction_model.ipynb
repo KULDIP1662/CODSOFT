{
 "cells": [
  {
   "cell_type": "code",
   "execution_count": 8,
   "metadata": {},
   "outputs": [],
   "source": [
    "import numpy as np\n",
    "import pandas as pd"
   ]
  },
  {
   "cell_type": "code",
   "execution_count": 9,
   "metadata": {},
   "outputs": [
    {
     "name": "stdout",
     "output_type": "stream",
     "text": [
      "      Movie_ID                                       Title        Genre  \\\n",
      "0            1                Oscar et la dame rose (2009)        drama   \n",
      "1            2                                Cupid (1997)     thriller   \n",
      "2            3            Young, Wild and Wonderful (1980)        adult   \n",
      "3            4                       The Secret Sin (1915)        drama   \n",
      "4            5                      The Unrecovered (2007)        drama   \n",
      "...        ...                                         ...          ...   \n",
      "54209    54210                             \"Bonino\" (1953)       comedy   \n",
      "54210    54211                 Dead Girls Don't Cry (????)       horror   \n",
      "54211    54212   Ronald Goedemondt: Ze bestaan echt (2008)  documentary   \n",
      "54212    54213                    Make Your Own Bed (1944)       comedy   \n",
      "54213    54214  Nature's Fury: Storm of the Century (2006)      history   \n",
      "\n",
      "                                                    Plot  \n",
      "0      Listening in to a conversation between his doc...  \n",
      "1      A brother and sister with a past incestuous re...  \n",
      "2      As the bus empties the students for their fiel...  \n",
      "3      To help their unemployed father make ends meet...  \n",
      "4      The film's title refers not only to the un-rec...  \n",
      "...                                                  ...  \n",
      "54209  This short-lived NBC live sitcom centered on B...  \n",
      "54210  The NEXT Generation of EXPLOITATION. The siste...  \n",
      "54211  Ze bestaan echt, is a stand-up comedy about gr...  \n",
      "54212  Walter and Vivian live in the country and have...  \n",
      "54213  On Labor Day Weekend, 1935, the most intense h...  \n",
      "\n",
      "[54214 rows x 4 columns]\n"
     ]
    }
   ],
   "source": [
    "\n",
    "file_path = r\"datasets\\Genre Classification Dataset\\train_data.txt\"\n",
    "\n",
    "with open(file_path, 'r') as file:\n",
    "    lines = file.readlines()\n",
    "\n",
    "\n",
    "data = [line.strip().split(' ::: ') for line in lines]\n",
    "\n",
    "\n",
    "df = pd.DataFrame(data, columns=['Movie_ID', 'Title', 'Genre', 'Plot'])\n",
    "\n",
    "\n",
    "print(df)\n",
    "\n"
   ]
  },
  {
   "cell_type": "code",
   "execution_count": 10,
   "metadata": {},
   "outputs": [
    {
     "name": "stdout",
     "output_type": "stream",
     "text": [
      "<class 'pandas.core.frame.DataFrame'>\n",
      "RangeIndex: 54214 entries, 0 to 54213\n",
      "Data columns (total 4 columns):\n",
      " #   Column    Non-Null Count  Dtype \n",
      "---  ------    --------------  ----- \n",
      " 0   Movie_ID  54214 non-null  object\n",
      " 1   Title     54214 non-null  object\n",
      " 2   Genre     54214 non-null  object\n",
      " 3   Plot      54214 non-null  object\n",
      "dtypes: object(4)\n",
      "memory usage: 1.7+ MB\n"
     ]
    }
   ],
   "source": [
    "df.info()"
   ]
  },
  {
   "cell_type": "code",
   "execution_count": 11,
   "metadata": {},
   "outputs": [
    {
     "data": {
      "text/html": [
       "<div>\n",
       "<style scoped>\n",
       "    .dataframe tbody tr th:only-of-type {\n",
       "        vertical-align: middle;\n",
       "    }\n",
       "\n",
       "    .dataframe tbody tr th {\n",
       "        vertical-align: top;\n",
       "    }\n",
       "\n",
       "    .dataframe thead th {\n",
       "        text-align: right;\n",
       "    }\n",
       "</style>\n",
       "<table border=\"1\" class=\"dataframe\">\n",
       "  <thead>\n",
       "    <tr style=\"text-align: right;\">\n",
       "      <th></th>\n",
       "      <th>Movie_ID</th>\n",
       "      <th>Title</th>\n",
       "      <th>Genre</th>\n",
       "      <th>Plot</th>\n",
       "    </tr>\n",
       "  </thead>\n",
       "  <tbody>\n",
       "    <tr>\n",
       "      <th>0</th>\n",
       "      <td>1</td>\n",
       "      <td>Oscar et la dame rose (2009)</td>\n",
       "      <td>drama</td>\n",
       "      <td>Listening in to a conversation between his doc...</td>\n",
       "    </tr>\n",
       "    <tr>\n",
       "      <th>1</th>\n",
       "      <td>2</td>\n",
       "      <td>Cupid (1997)</td>\n",
       "      <td>thriller</td>\n",
       "      <td>A brother and sister with a past incestuous re...</td>\n",
       "    </tr>\n",
       "    <tr>\n",
       "      <th>2</th>\n",
       "      <td>3</td>\n",
       "      <td>Young, Wild and Wonderful (1980)</td>\n",
       "      <td>adult</td>\n",
       "      <td>As the bus empties the students for their fiel...</td>\n",
       "    </tr>\n",
       "    <tr>\n",
       "      <th>3</th>\n",
       "      <td>4</td>\n",
       "      <td>The Secret Sin (1915)</td>\n",
       "      <td>drama</td>\n",
       "      <td>To help their unemployed father make ends meet...</td>\n",
       "    </tr>\n",
       "    <tr>\n",
       "      <th>4</th>\n",
       "      <td>5</td>\n",
       "      <td>The Unrecovered (2007)</td>\n",
       "      <td>drama</td>\n",
       "      <td>The film's title refers not only to the un-rec...</td>\n",
       "    </tr>\n",
       "    <tr>\n",
       "      <th>...</th>\n",
       "      <td>...</td>\n",
       "      <td>...</td>\n",
       "      <td>...</td>\n",
       "      <td>...</td>\n",
       "    </tr>\n",
       "    <tr>\n",
       "      <th>54209</th>\n",
       "      <td>54210</td>\n",
       "      <td>\"Bonino\" (1953)</td>\n",
       "      <td>comedy</td>\n",
       "      <td>This short-lived NBC live sitcom centered on B...</td>\n",
       "    </tr>\n",
       "    <tr>\n",
       "      <th>54210</th>\n",
       "      <td>54211</td>\n",
       "      <td>Dead Girls Don't Cry (????)</td>\n",
       "      <td>horror</td>\n",
       "      <td>The NEXT Generation of EXPLOITATION. The siste...</td>\n",
       "    </tr>\n",
       "    <tr>\n",
       "      <th>54211</th>\n",
       "      <td>54212</td>\n",
       "      <td>Ronald Goedemondt: Ze bestaan echt (2008)</td>\n",
       "      <td>documentary</td>\n",
       "      <td>Ze bestaan echt, is a stand-up comedy about gr...</td>\n",
       "    </tr>\n",
       "    <tr>\n",
       "      <th>54212</th>\n",
       "      <td>54213</td>\n",
       "      <td>Make Your Own Bed (1944)</td>\n",
       "      <td>comedy</td>\n",
       "      <td>Walter and Vivian live in the country and have...</td>\n",
       "    </tr>\n",
       "    <tr>\n",
       "      <th>54213</th>\n",
       "      <td>54214</td>\n",
       "      <td>Nature's Fury: Storm of the Century (2006)</td>\n",
       "      <td>history</td>\n",
       "      <td>On Labor Day Weekend, 1935, the most intense h...</td>\n",
       "    </tr>\n",
       "  </tbody>\n",
       "</table>\n",
       "<p>54214 rows × 4 columns</p>\n",
       "</div>"
      ],
      "text/plain": [
       "      Movie_ID                                       Title        Genre  \\\n",
       "0            1                Oscar et la dame rose (2009)        drama   \n",
       "1            2                                Cupid (1997)     thriller   \n",
       "2            3            Young, Wild and Wonderful (1980)        adult   \n",
       "3            4                       The Secret Sin (1915)        drama   \n",
       "4            5                      The Unrecovered (2007)        drama   \n",
       "...        ...                                         ...          ...   \n",
       "54209    54210                             \"Bonino\" (1953)       comedy   \n",
       "54210    54211                 Dead Girls Don't Cry (????)       horror   \n",
       "54211    54212   Ronald Goedemondt: Ze bestaan echt (2008)  documentary   \n",
       "54212    54213                    Make Your Own Bed (1944)       comedy   \n",
       "54213    54214  Nature's Fury: Storm of the Century (2006)      history   \n",
       "\n",
       "                                                    Plot  \n",
       "0      Listening in to a conversation between his doc...  \n",
       "1      A brother and sister with a past incestuous re...  \n",
       "2      As the bus empties the students for their fiel...  \n",
       "3      To help their unemployed father make ends meet...  \n",
       "4      The film's title refers not only to the un-rec...  \n",
       "...                                                  ...  \n",
       "54209  This short-lived NBC live sitcom centered on B...  \n",
       "54210  The NEXT Generation of EXPLOITATION. The siste...  \n",
       "54211  Ze bestaan echt, is a stand-up comedy about gr...  \n",
       "54212  Walter and Vivian live in the country and have...  \n",
       "54213  On Labor Day Weekend, 1935, the most intense h...  \n",
       "\n",
       "[54214 rows x 4 columns]"
      ]
     },
     "execution_count": 11,
     "metadata": {},
     "output_type": "execute_result"
    }
   ],
   "source": [
    "df"
   ]
  },
  {
   "cell_type": "code",
   "execution_count": 12,
   "metadata": {},
   "outputs": [
    {
     "data": {
      "text/plain": [
       "0        Listening in to a conversation between his doc...\n",
       "1        A brother and sister with a past incestuous re...\n",
       "2        As the bus empties the students for their fiel...\n",
       "3        To help their unemployed father make ends meet...\n",
       "4        The film's title refers not only to the un-rec...\n",
       "                               ...                        \n",
       "54209    This short-lived NBC live sitcom centered on B...\n",
       "54210    The NEXT Generation of EXPLOITATION. The siste...\n",
       "54211    Ze bestaan echt, is a stand-up comedy about gr...\n",
       "54212    Walter and Vivian live in the country and have...\n",
       "54213    On Labor Day Weekend, 1935, the most intense h...\n",
       "Name: Plot, Length: 54214, dtype: object"
      ]
     },
     "execution_count": 12,
     "metadata": {},
     "output_type": "execute_result"
    }
   ],
   "source": [
    "x_train = df['Plot']\n",
    "x_train"
   ]
  },
  {
   "cell_type": "code",
   "execution_count": 13,
   "metadata": {},
   "outputs": [
    {
     "data": {
      "text/plain": [
       "0              drama\n",
       "1           thriller\n",
       "2              adult\n",
       "3              drama\n",
       "4              drama\n",
       "            ...     \n",
       "54209         comedy\n",
       "54210         horror\n",
       "54211    documentary\n",
       "54212         comedy\n",
       "54213        history\n",
       "Name: Genre, Length: 54214, dtype: object"
      ]
     },
     "execution_count": 13,
     "metadata": {},
     "output_type": "execute_result"
    }
   ],
   "source": [
    "y_train = df['Genre']\n",
    "y_train"
   ]
  },
  {
   "cell_type": "code",
   "execution_count": 14,
   "metadata": {},
   "outputs": [
    {
     "name": "stdout",
     "output_type": "stream",
     "text": [
      "      Movie_ID                           Title        Genre  \\\n",
      "0            1            Edgar's Lunch (1998)     thriller   \n",
      "1            2        La guerra de papá (1977)       comedy   \n",
      "2            3     Off the Beaten Track (2010)  documentary   \n",
      "3            4          Meu Amigo Hindu (2015)        drama   \n",
      "4            5               Er nu zhai (1955)        drama   \n",
      "...        ...                             ...          ...   \n",
      "54195    54196  \"Tales of Light & Dark\" (2013)       horror   \n",
      "54196    54197     Der letzte Mohikaner (1965)      western   \n",
      "54197    54198             Oliver Twink (2007)        adult   \n",
      "54198    54199               Slipstream (1973)        drama   \n",
      "54199    54200       Curitiba Zero Grau (2010)        drama   \n",
      "\n",
      "                                                    Plot  \n",
      "0      L.R. Brane loves his life - his car, his apart...  \n",
      "1      Spain, March 1964: Quico is a very naughty chi...  \n",
      "2      One year in the life of Albin and his family o...  \n",
      "3      His father has died, he hasn't spoken with his...  \n",
      "4      Before he was known internationally as a marti...  \n",
      "...                                                  ...  \n",
      "54195  Covering multiple genres, Tales of Light & Dar...  \n",
      "54196  As Alice and Cora Munro attempt to find their ...  \n",
      "54197  A movie 169 years in the making. Oliver Twist,...  \n",
      "54198  Popular, but mysterious rock D.J Mike Mallard ...  \n",
      "54199  Curitiba is a city in movement, with rhythms a...  \n",
      "\n",
      "[54200 rows x 4 columns]\n"
     ]
    }
   ],
   "source": [
    "file_path = r'datasets\\Genre Classification Dataset\\test_data_solution.txt'\n",
    "\n",
    "# Read the data as lines\n",
    "with open(file_path, 'r') as file:\n",
    "    lines = file.readlines()\n",
    "\n",
    "# Split each line based on ':::' and create a list of lists\n",
    "data = [line.strip().split(' ::: ') for line in lines]\n",
    "\n",
    "# Create a DataFrame from the list of lists\n",
    "test_df = pd.DataFrame(data, columns=['Movie_ID', 'Title', 'Genre', 'Plot'])\n",
    "\n",
    "# Display the DataFrame\n",
    "print(test_df)"
   ]
  },
  {
   "cell_type": "code",
   "execution_count": 15,
   "metadata": {},
   "outputs": [
    {
     "data": {
      "text/html": [
       "<div>\n",
       "<style scoped>\n",
       "    .dataframe tbody tr th:only-of-type {\n",
       "        vertical-align: middle;\n",
       "    }\n",
       "\n",
       "    .dataframe tbody tr th {\n",
       "        vertical-align: top;\n",
       "    }\n",
       "\n",
       "    .dataframe thead th {\n",
       "        text-align: right;\n",
       "    }\n",
       "</style>\n",
       "<table border=\"1\" class=\"dataframe\">\n",
       "  <thead>\n",
       "    <tr style=\"text-align: right;\">\n",
       "      <th></th>\n",
       "      <th>Movie_ID</th>\n",
       "      <th>Title</th>\n",
       "      <th>Genre</th>\n",
       "      <th>Plot</th>\n",
       "    </tr>\n",
       "  </thead>\n",
       "  <tbody>\n",
       "    <tr>\n",
       "      <th>0</th>\n",
       "      <td>1</td>\n",
       "      <td>Edgar's Lunch (1998)</td>\n",
       "      <td>thriller</td>\n",
       "      <td>L.R. Brane loves his life - his car, his apart...</td>\n",
       "    </tr>\n",
       "    <tr>\n",
       "      <th>1</th>\n",
       "      <td>2</td>\n",
       "      <td>La guerra de papá (1977)</td>\n",
       "      <td>comedy</td>\n",
       "      <td>Spain, March 1964: Quico is a very naughty chi...</td>\n",
       "    </tr>\n",
       "    <tr>\n",
       "      <th>2</th>\n",
       "      <td>3</td>\n",
       "      <td>Off the Beaten Track (2010)</td>\n",
       "      <td>documentary</td>\n",
       "      <td>One year in the life of Albin and his family o...</td>\n",
       "    </tr>\n",
       "    <tr>\n",
       "      <th>3</th>\n",
       "      <td>4</td>\n",
       "      <td>Meu Amigo Hindu (2015)</td>\n",
       "      <td>drama</td>\n",
       "      <td>His father has died, he hasn't spoken with his...</td>\n",
       "    </tr>\n",
       "    <tr>\n",
       "      <th>4</th>\n",
       "      <td>5</td>\n",
       "      <td>Er nu zhai (1955)</td>\n",
       "      <td>drama</td>\n",
       "      <td>Before he was known internationally as a marti...</td>\n",
       "    </tr>\n",
       "    <tr>\n",
       "      <th>...</th>\n",
       "      <td>...</td>\n",
       "      <td>...</td>\n",
       "      <td>...</td>\n",
       "      <td>...</td>\n",
       "    </tr>\n",
       "    <tr>\n",
       "      <th>54195</th>\n",
       "      <td>54196</td>\n",
       "      <td>\"Tales of Light &amp; Dark\" (2013)</td>\n",
       "      <td>horror</td>\n",
       "      <td>Covering multiple genres, Tales of Light &amp; Dar...</td>\n",
       "    </tr>\n",
       "    <tr>\n",
       "      <th>54196</th>\n",
       "      <td>54197</td>\n",
       "      <td>Der letzte Mohikaner (1965)</td>\n",
       "      <td>western</td>\n",
       "      <td>As Alice and Cora Munro attempt to find their ...</td>\n",
       "    </tr>\n",
       "    <tr>\n",
       "      <th>54197</th>\n",
       "      <td>54198</td>\n",
       "      <td>Oliver Twink (2007)</td>\n",
       "      <td>adult</td>\n",
       "      <td>A movie 169 years in the making. Oliver Twist,...</td>\n",
       "    </tr>\n",
       "    <tr>\n",
       "      <th>54198</th>\n",
       "      <td>54199</td>\n",
       "      <td>Slipstream (1973)</td>\n",
       "      <td>drama</td>\n",
       "      <td>Popular, but mysterious rock D.J Mike Mallard ...</td>\n",
       "    </tr>\n",
       "    <tr>\n",
       "      <th>54199</th>\n",
       "      <td>54200</td>\n",
       "      <td>Curitiba Zero Grau (2010)</td>\n",
       "      <td>drama</td>\n",
       "      <td>Curitiba is a city in movement, with rhythms a...</td>\n",
       "    </tr>\n",
       "  </tbody>\n",
       "</table>\n",
       "<p>54200 rows × 4 columns</p>\n",
       "</div>"
      ],
      "text/plain": [
       "      Movie_ID                           Title        Genre  \\\n",
       "0            1            Edgar's Lunch (1998)     thriller   \n",
       "1            2        La guerra de papá (1977)       comedy   \n",
       "2            3     Off the Beaten Track (2010)  documentary   \n",
       "3            4          Meu Amigo Hindu (2015)        drama   \n",
       "4            5               Er nu zhai (1955)        drama   \n",
       "...        ...                             ...          ...   \n",
       "54195    54196  \"Tales of Light & Dark\" (2013)       horror   \n",
       "54196    54197     Der letzte Mohikaner (1965)      western   \n",
       "54197    54198             Oliver Twink (2007)        adult   \n",
       "54198    54199               Slipstream (1973)        drama   \n",
       "54199    54200       Curitiba Zero Grau (2010)        drama   \n",
       "\n",
       "                                                    Plot  \n",
       "0      L.R. Brane loves his life - his car, his apart...  \n",
       "1      Spain, March 1964: Quico is a very naughty chi...  \n",
       "2      One year in the life of Albin and his family o...  \n",
       "3      His father has died, he hasn't spoken with his...  \n",
       "4      Before he was known internationally as a marti...  \n",
       "...                                                  ...  \n",
       "54195  Covering multiple genres, Tales of Light & Dar...  \n",
       "54196  As Alice and Cora Munro attempt to find their ...  \n",
       "54197  A movie 169 years in the making. Oliver Twist,...  \n",
       "54198  Popular, but mysterious rock D.J Mike Mallard ...  \n",
       "54199  Curitiba is a city in movement, with rhythms a...  \n",
       "\n",
       "[54200 rows x 4 columns]"
      ]
     },
     "execution_count": 15,
     "metadata": {},
     "output_type": "execute_result"
    }
   ],
   "source": [
    "test_df"
   ]
  },
  {
   "cell_type": "code",
   "execution_count": 16,
   "metadata": {},
   "outputs": [],
   "source": [
    "x_test = test_df['Plot']\n",
    "y_test = test_df['Genre']\n"
   ]
  },
  {
   "cell_type": "code",
   "execution_count": 17,
   "metadata": {},
   "outputs": [
    {
     "data": {
      "text/plain": [
       "0        L.R. Brane loves his life - his car, his apart...\n",
       "1        Spain, March 1964: Quico is a very naughty chi...\n",
       "2        One year in the life of Albin and his family o...\n",
       "3        His father has died, he hasn't spoken with his...\n",
       "4        Before he was known internationally as a marti...\n",
       "                               ...                        \n",
       "54195    Covering multiple genres, Tales of Light & Dar...\n",
       "54196    As Alice and Cora Munro attempt to find their ...\n",
       "54197    A movie 169 years in the making. Oliver Twist,...\n",
       "54198    Popular, but mysterious rock D.J Mike Mallard ...\n",
       "54199    Curitiba is a city in movement, with rhythms a...\n",
       "Name: Plot, Length: 54200, dtype: object"
      ]
     },
     "execution_count": 17,
     "metadata": {},
     "output_type": "execute_result"
    }
   ],
   "source": [
    "x_test"
   ]
  },
  {
   "cell_type": "code",
   "execution_count": 18,
   "metadata": {},
   "outputs": [
    {
     "data": {
      "text/plain": [
       "0           thriller\n",
       "1             comedy\n",
       "2        documentary\n",
       "3              drama\n",
       "4              drama\n",
       "            ...     \n",
       "54195         horror\n",
       "54196        western\n",
       "54197          adult\n",
       "54198          drama\n",
       "54199          drama\n",
       "Name: Genre, Length: 54200, dtype: object"
      ]
     },
     "execution_count": 18,
     "metadata": {},
     "output_type": "execute_result"
    }
   ],
   "source": [
    "y_test"
   ]
  },
  {
   "cell_type": "code",
   "execution_count": 19,
   "metadata": {},
   "outputs": [],
   "source": [
    "from sklearn.feature_extraction.text import TfidfVectorizer\n",
    "tfidf_vectorizer = TfidfVectorizer()\n",
    "X_train_tfidf = tfidf_vectorizer.fit_transform(x_train)\n",
    "X_test_tfidf = tfidf_vectorizer.transform(x_test)"
   ]
  },
  {
   "cell_type": "code",
   "execution_count": 20,
   "metadata": {},
   "outputs": [
    {
     "data": {
      "text/plain": [
       "<54214x121110 sparse matrix of type '<class 'numpy.float64'>'\n",
       "\twith 3731486 stored elements in Compressed Sparse Row format>"
      ]
     },
     "execution_count": 20,
     "metadata": {},
     "output_type": "execute_result"
    }
   ],
   "source": [
    "X_train_tfidf"
   ]
  },
  {
   "cell_type": "code",
   "execution_count": 21,
   "metadata": {},
   "outputs": [
    {
     "data": {
      "text/plain": [
       "<54200x121110 sparse matrix of type '<class 'numpy.float64'>'\n",
       "\twith 3671174 stored elements in Compressed Sparse Row format>"
      ]
     },
     "execution_count": 21,
     "metadata": {},
     "output_type": "execute_result"
    }
   ],
   "source": [
    "X_test_tfidf"
   ]
  },
  {
   "cell_type": "code",
   "execution_count": 22,
   "metadata": {},
   "outputs": [
    {
     "data": {
      "text/html": [
       "<style>#sk-container-id-1 {color: black;background-color: white;}#sk-container-id-1 pre{padding: 0;}#sk-container-id-1 div.sk-toggleable {background-color: white;}#sk-container-id-1 label.sk-toggleable__label {cursor: pointer;display: block;width: 100%;margin-bottom: 0;padding: 0.3em;box-sizing: border-box;text-align: center;}#sk-container-id-1 label.sk-toggleable__label-arrow:before {content: \"▸\";float: left;margin-right: 0.25em;color: #696969;}#sk-container-id-1 label.sk-toggleable__label-arrow:hover:before {color: black;}#sk-container-id-1 div.sk-estimator:hover label.sk-toggleable__label-arrow:before {color: black;}#sk-container-id-1 div.sk-toggleable__content {max-height: 0;max-width: 0;overflow: hidden;text-align: left;background-color: #f0f8ff;}#sk-container-id-1 div.sk-toggleable__content pre {margin: 0.2em;color: black;border-radius: 0.25em;background-color: #f0f8ff;}#sk-container-id-1 input.sk-toggleable__control:checked~div.sk-toggleable__content {max-height: 200px;max-width: 100%;overflow: auto;}#sk-container-id-1 input.sk-toggleable__control:checked~label.sk-toggleable__label-arrow:before {content: \"▾\";}#sk-container-id-1 div.sk-estimator input.sk-toggleable__control:checked~label.sk-toggleable__label {background-color: #d4ebff;}#sk-container-id-1 div.sk-label input.sk-toggleable__control:checked~label.sk-toggleable__label {background-color: #d4ebff;}#sk-container-id-1 input.sk-hidden--visually {border: 0;clip: rect(1px 1px 1px 1px);clip: rect(1px, 1px, 1px, 1px);height: 1px;margin: -1px;overflow: hidden;padding: 0;position: absolute;width: 1px;}#sk-container-id-1 div.sk-estimator {font-family: monospace;background-color: #f0f8ff;border: 1px dotted black;border-radius: 0.25em;box-sizing: border-box;margin-bottom: 0.5em;}#sk-container-id-1 div.sk-estimator:hover {background-color: #d4ebff;}#sk-container-id-1 div.sk-parallel-item::after {content: \"\";width: 100%;border-bottom: 1px solid gray;flex-grow: 1;}#sk-container-id-1 div.sk-label:hover label.sk-toggleable__label {background-color: #d4ebff;}#sk-container-id-1 div.sk-serial::before {content: \"\";position: absolute;border-left: 1px solid gray;box-sizing: border-box;top: 0;bottom: 0;left: 50%;z-index: 0;}#sk-container-id-1 div.sk-serial {display: flex;flex-direction: column;align-items: center;background-color: white;padding-right: 0.2em;padding-left: 0.2em;position: relative;}#sk-container-id-1 div.sk-item {position: relative;z-index: 1;}#sk-container-id-1 div.sk-parallel {display: flex;align-items: stretch;justify-content: center;background-color: white;position: relative;}#sk-container-id-1 div.sk-item::before, #sk-container-id-1 div.sk-parallel-item::before {content: \"\";position: absolute;border-left: 1px solid gray;box-sizing: border-box;top: 0;bottom: 0;left: 50%;z-index: -1;}#sk-container-id-1 div.sk-parallel-item {display: flex;flex-direction: column;z-index: 1;position: relative;background-color: white;}#sk-container-id-1 div.sk-parallel-item:first-child::after {align-self: flex-end;width: 50%;}#sk-container-id-1 div.sk-parallel-item:last-child::after {align-self: flex-start;width: 50%;}#sk-container-id-1 div.sk-parallel-item:only-child::after {width: 0;}#sk-container-id-1 div.sk-dashed-wrapped {border: 1px dashed gray;margin: 0 0.4em 0.5em 0.4em;box-sizing: border-box;padding-bottom: 0.4em;background-color: white;}#sk-container-id-1 div.sk-label label {font-family: monospace;font-weight: bold;display: inline-block;line-height: 1.2em;}#sk-container-id-1 div.sk-label-container {text-align: center;}#sk-container-id-1 div.sk-container {/* jupyter's `normalize.less` sets `[hidden] { display: none; }` but bootstrap.min.css set `[hidden] { display: none !important; }` so we also need the `!important` here to be able to override the default hidden behavior on the sphinx rendered scikit-learn.org. See: https://github.com/scikit-learn/scikit-learn/issues/21755 */display: inline-block !important;position: relative;}#sk-container-id-1 div.sk-text-repr-fallback {display: none;}</style><div id=\"sk-container-id-1\" class=\"sk-top-container\"><div class=\"sk-text-repr-fallback\"><pre>LogisticRegression(max_iter=1000)</pre><b>In a Jupyter environment, please rerun this cell to show the HTML representation or trust the notebook. <br />On GitHub, the HTML representation is unable to render, please try loading this page with nbviewer.org.</b></div><div class=\"sk-container\" hidden><div class=\"sk-item\"><div class=\"sk-estimator sk-toggleable\"><input class=\"sk-toggleable__control sk-hidden--visually\" id=\"sk-estimator-id-1\" type=\"checkbox\" checked><label for=\"sk-estimator-id-1\" class=\"sk-toggleable__label sk-toggleable__label-arrow\">LogisticRegression</label><div class=\"sk-toggleable__content\"><pre>LogisticRegression(max_iter=1000)</pre></div></div></div></div></div>"
      ],
      "text/plain": [
       "LogisticRegression(max_iter=1000)"
      ]
     },
     "execution_count": 22,
     "metadata": {},
     "output_type": "execute_result"
    }
   ],
   "source": [
    "from sklearn.linear_model import LogisticRegression\n",
    "\n",
    "linear_model = LogisticRegression(max_iter=1000)\n",
    "\n",
    "linear_model.fit(X_train_tfidf,y_train)"
   ]
  },
  {
   "cell_type": "code",
   "execution_count": 23,
   "metadata": {},
   "outputs": [],
   "source": [
    "y_pred = linear_model.predict(X_test_tfidf)"
   ]
  },
  {
   "cell_type": "code",
   "execution_count": 24,
   "metadata": {},
   "outputs": [
    {
     "name": "stdout",
     "output_type": "stream",
     "text": [
      "Accuracy: 0.5907749077490775\n"
     ]
    }
   ],
   "source": [
    "from sklearn.metrics import accuracy_score, classification_report\n",
    "accuracy = accuracy_score(y_pred, y_test)\n",
    "print(\"Accuracy:\", accuracy)\n"
   ]
  },
  {
   "cell_type": "code",
   "execution_count": 25,
   "metadata": {},
   "outputs": [
    {
     "name": "stdout",
     "output_type": "stream",
     "text": [
      "Classification Report:\n"
     ]
    },
    {
     "name": "stderr",
     "output_type": "stream",
     "text": [
      "c:\\Users\\kuldeep\\anaconda3\\lib\\site-packages\\sklearn\\metrics\\_classification.py:1344: UndefinedMetricWarning: Precision and F-score are ill-defined and being set to 0.0 in labels with no predicted samples. Use `zero_division` parameter to control this behavior.\n",
      "  _warn_prf(average, modifier, msg_start, len(result))\n",
      "c:\\Users\\kuldeep\\anaconda3\\lib\\site-packages\\sklearn\\metrics\\_classification.py:1344: UndefinedMetricWarning: Precision and F-score are ill-defined and being set to 0.0 in labels with no predicted samples. Use `zero_division` parameter to control this behavior.\n",
      "  _warn_prf(average, modifier, msg_start, len(result))\n"
     ]
    },
    {
     "name": "stdout",
     "output_type": "stream",
     "text": [
      "              precision    recall  f1-score   support\n",
      "\n",
      "      action       0.52      0.25      0.34      1314\n",
      "       adult       0.65      0.20      0.31       590\n",
      "   adventure       0.74      0.15      0.25       775\n",
      "   animation       0.63      0.02      0.05       498\n",
      "   biography       0.00      0.00      0.00       264\n",
      "      comedy       0.54      0.60      0.57      7446\n",
      "       crime       0.44      0.02      0.04       505\n",
      " documentary       0.67      0.88      0.76     13096\n",
      "       drama       0.54      0.80      0.64     13612\n",
      "      family       0.51      0.06      0.11       783\n",
      "     fantasy       0.60      0.01      0.02       322\n",
      "   game-show       0.91      0.48      0.63       193\n",
      "     history       0.00      0.00      0.00       243\n",
      "      horror       0.67      0.56      0.61      2204\n",
      "       music       0.69      0.41      0.52       731\n",
      "     musical       1.00      0.01      0.01       276\n",
      "     mystery       0.00      0.00      0.00       318\n",
      "        news       0.78      0.04      0.07       181\n",
      "  reality-tv       0.52      0.19      0.27       883\n",
      "     romance       0.39      0.01      0.02       672\n",
      "      sci-fi       0.61      0.22      0.32       646\n",
      "       short       0.51      0.31      0.39      5072\n",
      "       sport       0.81      0.24      0.37       431\n",
      "   talk-show       0.63      0.16      0.25       391\n",
      "    thriller       0.43      0.11      0.17      1590\n",
      "         war       1.00      0.01      0.02       132\n",
      "     western       0.92      0.69      0.79      1032\n",
      "\n",
      "    accuracy                           0.59     54200\n",
      "   macro avg       0.58      0.24      0.28     54200\n",
      "weighted avg       0.58      0.59      0.54     54200\n",
      "\n"
     ]
    },
    {
     "name": "stderr",
     "output_type": "stream",
     "text": [
      "c:\\Users\\kuldeep\\anaconda3\\lib\\site-packages\\sklearn\\metrics\\_classification.py:1344: UndefinedMetricWarning: Precision and F-score are ill-defined and being set to 0.0 in labels with no predicted samples. Use `zero_division` parameter to control this behavior.\n",
      "  _warn_prf(average, modifier, msg_start, len(result))\n"
     ]
    }
   ],
   "source": [
    "print(\"Classification Report:\")\n",
    "print(classification_report(y_test, y_pred))"
   ]
  }
 ],
 "metadata": {
  "kernelspec": {
   "display_name": "base",
   "language": "python",
   "name": "python3"
  },
  "language_info": {
   "codemirror_mode": {
    "name": "ipython",
    "version": 3
   },
   "file_extension": ".py",
   "mimetype": "text/x-python",
   "name": "python",
   "nbconvert_exporter": "python",
   "pygments_lexer": "ipython3",
   "version": "3.10.9"
  }
 },
 "nbformat": 4,
 "nbformat_minor": 2
}
